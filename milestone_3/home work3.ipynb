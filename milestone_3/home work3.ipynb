{
 "cells": [
  {
   "cell_type": "code",
   "execution_count": 3,
   "metadata": {},
   "outputs": [
    {
     "name": "stdout",
     "output_type": "stream",
     "text": [
      "Sum of digits: 17\n"
     ]
    }
   ],
   "source": [
    "def sum_of_digits(n: int) -> int:\n",
    "    return sum(int(digit) for digit in str(abs(n)))\n",
    "\n",
    "\n",
    "\n",
    "num = int(input(\"Enter an integer: \"))\n",
    "print(\"Sum of digits:\", sum_of_digits(num))\n"
   ]
  },
  {
   "cell_type": "code",
   "execution_count": 6,
   "metadata": {},
   "outputs": [
    {
     "name": "stdout",
     "output_type": "stream",
     "text": [
      "Factorial: 120\n"
     ]
    }
   ],
   "source": [
    "def factorial(n: int) -> int:\n",
    "    if n < 0:\n",
    "        raise ValueError(\"Factorial is not defined for negative numbers\")\n",
    "    result = 1\n",
    "    for i in range(2, n + 1):\n",
    "        result *= i\n",
    "    return result\n",
    "\n",
    "num = int(input(\"Enter a number: \"))\n",
    "print(\"Factorial:\", factorial(num))"
   ]
  },
  {
   "cell_type": "code",
   "execution_count": 8,
   "metadata": {},
   "outputs": [
    {
     "name": "stdout",
     "output_type": "stream",
     "text": [
      "29 is a prime number\n"
     ]
    }
   ],
   "source": [
    "def is_prime(n: int) -> bool:\n",
    "    if n <= 1:\n",
    "        return False\n",
    "    if n == 2 or n == 3:\n",
    "        return True\n",
    "    if n % 2 == 0 or n % 3 == 0:\n",
    "        return False\n",
    "    \n",
    "    i = 5\n",
    "    while i * i <= n:\n",
    "        if n % i == 0 or n % (i + 2) == 0:\n",
    "            return False\n",
    "        i += 6\n",
    "    \n",
    "    return True\n",
    "\n",
    "\n",
    "num = int(input(\"Enter a number: \"))\n",
    "if is_prime(num):\n",
    "    print(f\"{num} is a prime number\")\n",
    "else:\n",
    "    print(f\"{num} is not a prime number\")"
   ]
  },
  {
   "cell_type": "code",
   "execution_count": 11,
   "metadata": {},
   "outputs": [
    {
     "name": "stdout",
     "output_type": "stream",
     "text": [
      "Послідовність Фібоначчі: [0, 1, 1, 2, 3]\n"
     ]
    }
   ],
   "source": [
    "def fibonacci(n: int):\n",
    "    if n <= 0:\n",
    "        print(\"Будь ласка, введіть додатне ціле число.\")\n",
    "        return\n",
    "    if n == 1:\n",
    "        print(\"Послідовність Фібоначчі:\", [0])\n",
    "        return\n",
    "    elif n == 2:\n",
    "        print(\"Послідовність Фібоначчі:\", [0, 1])\n",
    "        return\n",
    "\n",
    "    fib_sequence = [0, 1]\n",
    "    for _ in range(n - 2):\n",
    "        fib_sequence.append(fib_sequence[-1] + fib_sequence[-2])\n",
    "\n",
    "    print(\"Послідовність Фібоначчі:\", fib_sequence)\n",
    "\n",
    "\n",
    "num_terms = int(input(\"Введіть кількість термінів: \"))\n",
    "fibonacci(num_terms)"
   ]
  }
 ],
 "metadata": {
  "kernelspec": {
   "display_name": "Python 3",
   "language": "python",
   "name": "python3"
  },
  "language_info": {
   "codemirror_mode": {
    "name": "ipython",
    "version": 3
   },
   "file_extension": ".py",
   "mimetype": "text/x-python",
   "name": "python",
   "nbconvert_exporter": "python",
   "pygments_lexer": "ipython3",
   "version": "3.10.10"
  }
 },
 "nbformat": 4,
 "nbformat_minor": 2
}
