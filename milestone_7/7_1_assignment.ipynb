{
  "cells": [
    {
      "cell_type": "markdown",
      "metadata": {
        "colab_type": "text",
        "id": "view-in-github"
      },
      "source": [
        "<a href=\"https://colab.research.google.com/github/Polysshkin/Polushkin_Assignments-/blob/main/7_1_assignment.ipynb\" target=\"_parent\"><img src=\"https://colab.research.google.com/assets/colab-badge.svg\" alt=\"Open In Colab\"/></a>"
      ]
    },
    {
      "cell_type": "markdown",
      "metadata": {
        "id": "K-xXkt9Ztf7J"
      },
      "source": [
        "# Assignment 7.1\n",
        "\n",
        "> Replace all TODOs with your code.\n",
        ">\n",
        "> Do not change any other code and do not add/remove cells!"
      ]
    },
    {
      "cell_type": "code",
      "execution_count": 2,
      "metadata": {
        "id": "sGdc6BbbALg9"
      },
      "outputs": [],
      "source": [
        "# Do not edit this cell\n",
        "\n",
        "from typing import List, Dict"
      ]
    },
    {
      "cell_type": "markdown",
      "metadata": {
        "id": "cfhcjaX0vXXa"
      },
      "source": [
        "## Clients"
      ]
    },
    {
      "cell_type": "markdown",
      "metadata": {
        "id": "Vlz14hyr6wV6"
      },
      "source": [
        "### Task 1\n",
        "\n",
        "Write a function that takes a GitHub repository name as input and uses the [GitHub Repository API](https://docs.github.com/en/rest/repos) to retrieve and return information about the specified repository, including:\n",
        "\n",
        "* Repository Name\n",
        "* Owner\n",
        "* Description\n",
        "* License (if available)\n",
        "* Creation Date\n",
        "\n",
        "Use the `requests` module for this task."
      ]
    },
    {
      "cell_type": "code",
      "execution_count": 8,
      "metadata": {
        "colab": {
          "base_uri": "https://localhost:8080/"
        },
        "id": "vDYn-dRb7xIX",
        "outputId": "216b7932-4e2b-4401-9d45-2204e040a4b2"
      },
      "outputs": [
        {
          "name": "stdout",
          "output_type": "stream",
          "text": [
            "{'Repository Name': 'Hello-World', 'Owner': 'octocat', 'Description': 'My first repository on GitHub!', 'License': 'N/A', 'Created At': '2011-01-26T19:01:12Z'}\n"
          ]
        }
      ],
      "source": [
        "import requests\n",
        "\n",
        "def get_repository_info(repo_name: str) -> Dict[str, str]:\n",
        "    url = f\"https://api.github.com/repos/{repo_name}\"\n",
        "    response = requests.get(url)\n",
        "\n",
        "    if response.status_code != 200:\n",
        "        return {\"Error\": f\"Unable to fetch repository data (Status Code: {response.status_code})\"}\n",
        "\n",
        "    data = response.json()\n",
        "\n",
        "    return {\n",
        "        \"Repository Name\": data.get(\"name\", \"N/A\"),\n",
        "        \"Owner\": data.get(\"owner\", {}).get(\"login\", \"N/A\"),\n",
        "        \"Description\": data.get(\"description\", \"N/A\"),\n",
        "        \"License\": data.get(\"license\", {}).get(\"name\", \"N/A\") if data.get(\"license\") else \"N/A\",\n",
        "        \"Created At\": data.get(\"created_at\", \"N/A\")\n",
        "    }\n",
        "\n",
        "\n",
        "print(get_repository_info(\"octocat/Hello-World\"))\n"
      ]
    },
    {
      "cell_type": "markdown",
      "metadata": {
        "id": "0TC34gv79VEo"
      },
      "source": [
        "### Task 2\n",
        "\n",
        "Write a function that takes a GitHub repository name and uses the [GitHub Commits API](https://docs.github.com/en/rest/commits/commits) to retrieve and return information about the five most recent commits in a selected GitHub repository, including:\n",
        "* Commit Message\n",
        "* Author\n",
        "* Date\n",
        "* Link to the commit on GitHub\n",
        "\n",
        "Use the `requests` module for this task."
      ]
    },
    {
      "cell_type": "code",
      "execution_count": 10,
      "metadata": {
        "colab": {
          "base_uri": "https://localhost:8080/"
        },
        "id": "Kf2284dT-atu",
        "outputId": "0353787c-1252-45c9-f9b1-c4c30eb0894a"
      },
      "outputs": [
        {
          "name": "stdout",
          "output_type": "stream",
          "text": [
            "[{'Message': 'Merge pull request #6 from Spaceghost/patch-1\\n\\nNew line at end of file.', 'Author': 'The Octocat', 'Date': '2012-03-06T23:06:50Z', 'URL': 'https://github.com/octocat/Hello-World/commit/7fd1a60b01f91b314f59955a4e4d4e80d8edf11d'}, {'Message': 'New line at end of file. --Signed off by Spaceghost', 'Author': 'Johnneylee Jack Rollins', 'Date': '2011-09-14T04:42:41Z', 'URL': 'https://github.com/octocat/Hello-World/commit/762941318ee16e59dabbacb1b4049eec22f0d303'}, {'Message': 'first commit', 'Author': 'cameronmcefee', 'Date': '2011-01-26T19:06:08Z', 'URL': 'https://github.com/octocat/Hello-World/commit/553c2077f0edc3d5dc5d17262f6aa498e69d6f8e'}]\n"
          ]
        }
      ],
      "source": [
        "def get_latest_commits(repo_name: str) -> List[Dict[str, str]]:\n",
        "    url = f\"https://api.github.com/repos/{repo_name}/commits\"\n",
        "    response = requests.get(url)\n",
        "\n",
        "    if response.status_code != 200:\n",
        "        return [{\"Error\": f\"Unable to fetch commits (Status Code: {response.status_code})\"}]\n",
        "\n",
        "    commits = response.json()[:5]\n",
        "\n",
        "    return [\n",
        "        {\n",
        "            \"Message\": commit.get(\"commit\", {}).get(\"message\", \"N/A\"),\n",
        "            \"Author\": commit.get(\"commit\", {}).get(\"author\", {}).get(\"name\", \"N/A\"),\n",
        "            \"Date\": commit.get(\"commit\", {}).get(\"author\", {}).get(\"date\", \"N/A\"),\n",
        "            \"URL\": commit.get(\"html_url\", \"N/A\")\n",
        "        }\n",
        "        for commit in commits\n",
        "    ]\n",
        "\n",
        "\n",
        "print(get_latest_commits(\"octocat/Hello-World\"))\n",
        "\n"
      ]
    }
  ],
  "metadata": {
    "colab": {
      "include_colab_link": true,
      "provenance": []
    },
    "kernelspec": {
      "display_name": "Python 3",
      "name": "python3"
    },
    "language_info": {
      "name": "python"
    }
  },
  "nbformat": 4,
  "nbformat_minor": 0
}
