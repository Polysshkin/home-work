{
  "cells": [
    {
      "cell_type": "markdown",
      "metadata": {
        "id": "oY7M_WqQy7zz"
      },
      "source": [
        "# Assignment 10.2\n",
        "\n",
        "> Replace all TODOs with your code. Do not change any other code."
      ]
    },
    {
      "cell_type": "code",
      "execution_count": 10,
      "metadata": {
        "id": "DCZ2nU3KCFyk"
      },
      "outputs": [],
      "source": [
        "# Do not edit this cell\n",
        "\n",
        "import csv\n",
        "import unittest\n",
        "from unittest.mock import mock_open, patch"
      ]
    },
    {
      "cell_type": "markdown",
      "metadata": {
        "id": "Jz8SYjAz0N8D"
      },
      "source": [
        "## Clean code"
      ]
    },
    {
      "cell_type": "markdown",
      "metadata": {
        "id": "IHwd1Zzby7z1"
      },
      "source": [
        "### Task 1\n",
        "\n",
        "You are given a function that reads a csv file with temperature measurements (see example below), converts Fahrenheit values to Celsius, calculates and prints some statistics, and writes to another file. It looks a bit messy, let's clean it up!\n",
        "\n",
        "Example file:\n",
        "```csv\n",
        "Temperature (F)\n",
        "78.5\n",
        "81.2\n",
        "75.9\n",
        "82.1\n",
        "```\n",
        "\n",
        "Do the steps below one by one, editing the code in the cell:\n",
        "1. Naming is so ambiguous and unclear, let's rename variables and function name with proper names.\n",
        "2. Are these comments really useful?\n",
        "3. This function does quite a lot, let's divide it in the way that each function does only one thing, and there's one main function that uses others.\n",
        "4. There seem to be some magic coefficients in the temperature conversion part; let's make them obvious.\n",
        "\n",
        "If you find any additional improvements, feel free to implement them and leave a comment under your code with an explanation."
      ]
    },
    {
      "cell_type": "code",
      "execution_count": 11,
      "metadata": {
        "tags": [
          "task_1"
        ],
        "id": "uBoo2azsCFyv"
      },
      "outputs": [],
      "source": [
        "\n",
        "def fahrenheit_to_celsius(fahrenheit):\n",
        "    CELSIUS_CONVERSION_FACTOR = 5 / 9\n",
        "    CELSIUS_OFFSET = 32\n",
        "    return (fahrenheit - CELSIUS_OFFSET) * CELSIUS_CONVERSION_FACTOR\n",
        "\n",
        "def read_temperatures_from_csv(input_file):\n",
        "    temperatures = []\n",
        "    with open(input_file, 'r') as file:\n",
        "        reader = csv.reader(file)\n",
        "        next(reader)  # Skip header row\n",
        "        for row in reader:\n",
        "            temperatures.append(fahrenheit_to_celsius(float(row[0])))\n",
        "    return temperatures\n",
        "\n",
        "def calculate_statistics(temperatures):\n",
        "    average_temp = sum(temperatures) / len(temperatures)\n",
        "    min_temp = min(temperatures)\n",
        "    max_temp = max(temperatures)\n",
        "    return average_temp, min_temp, max_temp\n",
        "\n",
        "def write_temperatures_to_csv(output_file, temperatures):\n",
        "    with open(output_file, 'w', newline='') as file:\n",
        "        writer = csv.writer(file)\n",
        "        writer.writerow(['Temperature (C)'])\n",
        "        for temp in temperatures:\n",
        "            writer.writerow([temp])\n",
        "\n",
        "def main(input_file, output_file):\n",
        "    temperatures = read_temperatures_from_csv(input_file)\n",
        "    average_temp, min_temp, max_temp = calculate_statistics(temperatures)\n",
        "\n",
        "    print(\"Statistics:\")\n",
        "    print(f\"Average: {average_temp:.2f}°C\")\n",
        "    print(f\"Minimum: {min_temp:.2f}°C\")\n",
        "    print(f\"Maximum: {max_temp:.2f}°C\")\n",
        "\n",
        "    write_temperatures_to_csv(output_file, temperatures)\n",
        "\n"
      ]
    },
    {
      "cell_type": "markdown",
      "metadata": {
        "id": "lL-ELM-Ay7z2"
      },
      "source": [
        "### Task 2\n",
        "\n",
        "How would you write tests for the initial implementation? What exactly would you test in the function?\n",
        "\n",
        "I hope you see now that once functionality is separated, it's easier to test it in isolation. So, let's write a couple of unit tests for your function and one integration test for your main function.\n",
        "\n",
        "Hint: you would probably want to mock reading from/writing to file to make the test independent from the environment."
      ]
    },
    {
      "cell_type": "code",
      "execution_count": 19,
      "metadata": {
        "id": "cibiSsjry7z3",
        "tags": [
          "task_2"
        ],
        "outputId": "77f26b4b-6cfb-4855-c4bf-7a26a9440cb3",
        "colab": {
          "base_uri": "https://localhost:8080/"
        }
      },
      "outputs": [
        {
          "output_type": "stream",
          "name": "stderr",
          "text": [
            "..\n",
            "----------------------------------------------------------------------\n",
            "Ran 2 tests in 0.012s\n",
            "\n",
            "OK\n"
          ]
        },
        {
          "output_type": "stream",
          "name": "stdout",
          "text": [
            "Statistics:\n",
            "Average: 100.00°C\n",
            "Minimum: 100.00°C\n",
            "Maximum: 100.00°C\n"
          ]
        }
      ],
      "source": [
        "class UnitTestCase(unittest.TestCase):\n",
        "    def test_fahrenheit_to_celsius(self):\n",
        "        self.assertAlmostEqual(fahrenheit_to_celsius(32), 0)\n",
        "        self.assertAlmostEqual(fahrenheit_to_celsius(212), 100)\n",
        "        self.assertAlmostEqual(fahrenheit_to_celsius(98.6), 37, places=1)\n",
        "\n",
        "@patch(\"builtins.open\", new_callable=mock_open, read_data=\"Temperature (F)\\n32\\n212\\n\")\n",
        "def test_read_temperatures_from_csv(self, mock_file):\n",
        "    result = read_temperatures_from_csv(\"dummy.csv\")\n",
        "    self.assertEqual(result, [0.0, 100.0])\n",
        "\n",
        "\n",
        "\n",
        "    def test_calculate_statistics(self):\n",
        "        temps = [0.0, 100.0, 50.0]\n",
        "        avg, min_t, max_t = calculate_statistics(temps)\n",
        "        self.assertAlmostEqual(avg, 50.0)\n",
        "        self.assertEqual(min_t, 0.0)\n",
        "        self.assertEqual(max_t, 100.0)\n",
        "\n",
        "class IntegrationTestCase(unittest.TestCase):\n",
        "    @patch(\"builtins.open\", new_callable=mock_open)\n",
        "    @patch(\"csv.reader\", return_value=iter([[\"32\"], [\"212\"]]))\n",
        "    def test_main_function(self, mock_csv_reader, mock_file):\n",
        "        main(\"input.csv\", \"output.csv\")\n",
        "        mock_file.assert_called_with(\"output.csv\", \"w\", newline=\"\")\n",
        "\n",
        "if __name__ == \"__main__\":\n",
        "    unittest.main(argv=['first-arg-is-ignored'], exit=False)\n",
        "\n",
        "\n",
        "\n",
        "\n",
        "\n"
      ]
    }
  ],
  "metadata": {
    "colab": {
      "provenance": []
    },
    "kernelspec": {
      "display_name": "venv",
      "language": "python",
      "name": "python3"
    },
    "language_info": {
      "codemirror_mode": {
        "name": "ipython",
        "version": 3
      },
      "file_extension": ".py",
      "mimetype": "text/x-python",
      "name": "python",
      "nbconvert_exporter": "python",
      "pygments_lexer": "ipython3",
      "version": "3.11.5"
    },
    "orig_nbformat": 4
  },
  "nbformat": 4,
  "nbformat_minor": 0
}