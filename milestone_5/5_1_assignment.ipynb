{
  "cells": [
    {
      "cell_type": "markdown",
      "metadata": {
        "id": "-89_Z_je0cfL"
      },
      "source": [
        "# Assignment 5.1\n",
        "\n",
        "> Replace all TODOs with your code.\n",
        ">\n",
        "> Do not change any other code and do not add/remove cells!"
      ]
    },
    {
      "cell_type": "markdown",
      "metadata": {
        "id": "w6E-GxTB0j4M"
      },
      "source": [
        "## Files"
      ]
    },
    {
      "cell_type": "markdown",
      "metadata": {
        "id": "iEwuf_DP0cfM"
      },
      "source": [
        "### Task 1\n",
        "\n",
        "Create a new file named \"hello.txt\" and write to it \"Hello, world!\"."
      ]
    },
    {
      "cell_type": "code",
      "execution_count": null,
      "metadata": {
        "id": "IWVOCWxx0cfM",
        "tags": [
          "task_1"
        ]
      },
      "outputs": [],
      "source": [
        "with open(\"hello.txt\", \"w\") as file:\n",
        "    file.write(\"Hello, world!\")"
      ]
    },
    {
      "cell_type": "markdown",
      "metadata": {
        "id": "2z8HqsaK0cfN"
      },
      "source": [
        "### Task 2\n",
        "\n",
        "Open the file \"hello.txt\" and rewrite it with a random integer from the range [1, 10]."
      ]
    },
    {
      "cell_type": "code",
      "execution_count": null,
      "metadata": {
        "id": "kva_9ycA0cfN",
        "tags": [
          "task_2"
        ]
      },
      "outputs": [],
      "source": [
        "import random\n",
        "\n",
        "random_number = random.randint(1, 10)\n",
        "\n",
        "with open(\"hello.txt\", \"w\") as file:\n",
        "    file.write(str(random_number))\n",
        "\n",
        "print(f\"File overwritten with number: {random_number}\")\n"
      ]
    },
    {
      "cell_type": "markdown",
      "metadata": {
        "id": "IqjW7SGS0cfN"
      },
      "source": [
        "### Task 3\n",
        "\n",
        "Open file \"hello.txt\" and read the number from it to variable `n`. Now append `n` upper-case letters starting with \"A\", \"B\", ... to the file."
      ]
    },
    {
      "cell_type": "code",
      "execution_count": 10,
      "metadata": {
        "colab": {
          "base_uri": "https://localhost:8080/",
          "height": 211
        },
        "collapsed": true,
        "id": "p83RQvA40cfN",
        "outputId": "33b2e10c-70aa-482c-f7c4-6625a84e6adb",
        "tags": [
          "task_3"
        ]
      },
      "outputs": [
        {
          "ename": "FileNotFoundError",
          "evalue": "[Errno 2] No such file or directory: 'hello.txt'",
          "output_type": "error",
          "traceback": [
            "\u001b[0;31m---------------------------------------------------------------------------\u001b[0m",
            "\u001b[0;31mFileNotFoundError\u001b[0m                         Traceback (most recent call last)",
            "\u001b[0;32m<ipython-input-10-1424046170f2>\u001b[0m in \u001b[0;36m<cell line: 0>\u001b[0;34m()\u001b[0m\n\u001b[0;32m----> 1\u001b[0;31m \u001b[0;32mwith\u001b[0m \u001b[0mopen\u001b[0m\u001b[0;34m(\u001b[0m\u001b[0;34m\"hello.txt\"\u001b[0m\u001b[0;34m,\u001b[0m \u001b[0;34m\"r\"\u001b[0m\u001b[0;34m)\u001b[0m \u001b[0;32mas\u001b[0m \u001b[0mfile\u001b[0m\u001b[0;34m:\u001b[0m\u001b[0;34m\u001b[0m\u001b[0;34m\u001b[0m\u001b[0m\n\u001b[0m\u001b[1;32m      2\u001b[0m     \u001b[0mn\u001b[0m \u001b[0;34m=\u001b[0m \u001b[0mint\u001b[0m\u001b[0;34m(\u001b[0m\u001b[0mfile\u001b[0m\u001b[0;34m.\u001b[0m\u001b[0mread\u001b[0m\u001b[0;34m(\u001b[0m\u001b[0;34m)\u001b[0m\u001b[0;34m.\u001b[0m\u001b[0mstrip\u001b[0m\u001b[0;34m(\u001b[0m\u001b[0;34m)\u001b[0m\u001b[0;34m)\u001b[0m\u001b[0;34m\u001b[0m\u001b[0;34m\u001b[0m\u001b[0m\n\u001b[1;32m      3\u001b[0m \u001b[0;34m\u001b[0m\u001b[0m\n\u001b[1;32m      4\u001b[0m \u001b[0mletters\u001b[0m \u001b[0;34m=\u001b[0m \u001b[0;34m\"\"\u001b[0m\u001b[0;34m.\u001b[0m\u001b[0mjoin\u001b[0m\u001b[0;34m(\u001b[0m\u001b[0mchr\u001b[0m\u001b[0;34m(\u001b[0m\u001b[0;36m65\u001b[0m \u001b[0;34m+\u001b[0m \u001b[0mi\u001b[0m\u001b[0;34m)\u001b[0m \u001b[0;32mfor\u001b[0m \u001b[0mi\u001b[0m \u001b[0;32min\u001b[0m \u001b[0mrange\u001b[0m\u001b[0;34m(\u001b[0m\u001b[0mn\u001b[0m\u001b[0;34m)\u001b[0m\u001b[0;34m)\u001b[0m\u001b[0;34m\u001b[0m\u001b[0;34m\u001b[0m\u001b[0m\n\u001b[1;32m      5\u001b[0m \u001b[0;34m\u001b[0m\u001b[0m\n",
            "\u001b[0;31mFileNotFoundError\u001b[0m: [Errno 2] No such file or directory: 'hello.txt'"
          ]
        }
      ],
      "source": [
        "with open(\"hello.txt\", \"r\") as file:\n",
        "    n = int(file.read().strip())\n",
        "\n",
        "letters = \"\".join(chr(65 + i) for i in range(n))\n",
        "\n",
        "with open(\"hello.txt\", \"a\") as file:\n",
        "    file.write(letters)\n",
        "\n",
        "print(f\"Appended {n} letters: {letters}\")\n"
      ]
    },
    {
      "cell_type": "markdown",
      "metadata": {
        "id": "fceBNTpUnip6"
      },
      "source": [
        "### Task 4\n",
        "\n",
        "Now open this file again and print to console its content."
      ]
    },
    {
      "cell_type": "code",
      "execution_count": null,
      "metadata": {
        "id": "VsoALrbBnsjs",
        "tags": [
          "task_4"
        ]
      },
      "outputs": [],
      "source": [
        "with open(\"hello.txt\", \"r\") as file:\n",
        "    content = file.read()\n",
        "\n",
        "print(\"File content:\", content)\n"
      ]
    },
    {
      "cell_type": "markdown",
      "metadata": {
        "id": "cBs-hn5nEvup"
      },
      "source": [
        "## CSV"
      ]
    },
    {
      "cell_type": "markdown",
      "metadata": {
        "id": "XysWADCIEvuq"
      },
      "source": [
        "### Task 5\n",
        "\n",
        "You have some warehouse data stored in the `warehouse` list. You want to persist this data to the disk in CSV format.\n",
        "\n",
        "Create a file `warehouse_v1.csv` and write the contents of `warehouse` list to it. Use the same methods for working with files as in previous exercises (i.e., `file.write()`).\n",
        "\n",
        "The file should look like this:\n",
        "```csv\n",
        "product,price,quantity\n",
        "Apple,0.5,10\n",
        "...\n",
        "```"
      ]
    },
    {
      "cell_type": "code",
      "execution_count": 2,
      "metadata": {
        "colab": {
          "base_uri": "https://localhost:8080/"
        },
        "id": "nUmJtZa2Evur",
        "outputId": "7c11c8c6-ee7e-4143-bc53-dd830be71c9c",
        "tags": [
          "task_5"
        ]
      },
      "outputs": [
        {
          "name": "stdout",
          "output_type": "stream",
          "text": [
            "File warehouse_v1.csv has been created.\n"
          ]
        }
      ],
      "source": [
        "warehouse = [\n",
        "    {\"product\": \"Apple\", \"price\": 0.5, \"quantity\": 10},\n",
        "    {\"product\": \"Banana\", \"price\": 0.75, \"quantity\": 20},\n",
        "    {\"product\": \"Orange\", \"price\": 0.35, \"quantity\": 15}\n",
        "]\n",
        "\n",
        "with open(\"warehouse_v1.csv\", \"w\") as file:\n",
        "    file.write(\"product,price,quantity\\n\")\n",
        "    for item in warehouse:\n",
        "        file.write(f\"{item['product']},{item['price']},{item['quantity']}\\n\")\n",
        "\n",
        "print(\"File warehouse_v1.csv has been created.\")\n"
      ]
    },
    {
      "cell_type": "markdown",
      "metadata": {
        "id": "B1v2ZLfYEvut"
      },
      "source": [
        "### Task 6\n",
        "\n",
        "Now use csv writer convenience methods to do the same to the file `warehouse_v2.csv`. The file content should be identical."
      ]
    },
    {
      "cell_type": "code",
      "execution_count": 7,
      "metadata": {
        "colab": {
          "base_uri": "https://localhost:8080/"
        },
        "id": "HfQ1i0TjEvuu",
        "outputId": "b13e455f-e819-4dae-873d-cfbfd2952088",
        "tags": [
          "task_6"
        ]
      },
      "outputs": [
        {
          "name": "stdout",
          "output_type": "stream",
          "text": [
            "File warehouse_v2.csv has been created.\n"
          ]
        }
      ],
      "source": [
        "import csv\n",
        "\n",
        "warehouse = [\n",
        "    {\"product\": \"Apple\", \"price\": 0.5, \"quantity\": 10},\n",
        "    {\"product\": \"Banana\", \"price\": 0.75, \"quantity\": 20},\n",
        "    {\"product\": \"Orange\", \"price\": 0.35, \"quantity\": 15}\n",
        "]\n",
        "\n",
        "with open(\"warehouse_v2.csv\", \"w\", newline='') as file:\n",
        "    writer = csv.DictWriter(file, fieldnames=[\"product\", \"price\", \"quantity\"])\n",
        "    writer.writeheader()\n",
        "    writer.writerows(warehouse)\n",
        "\n",
        "print(\"File warehouse_v2.csv has been created.\")\n"
      ]
    },
    {
      "cell_type": "markdown",
      "metadata": {
        "id": "hY-gVS93Evuv"
      },
      "source": [
        "## JSON"
      ]
    },
    {
      "cell_type": "markdown",
      "metadata": {
        "id": "WBABzqgMEvuv"
      },
      "source": [
        "### Task 7\n",
        "\n",
        "The lecture didn't mention this, but another common way to store information on disk is JSON. The JSON structure comes from Javascript, but somehow similar to native Python structures like `list` and `dict`. There's `json` module to help you work with JSON files.\n",
        "\n",
        "Now, store the same `warehouse` object to the `warehouse.json` file and inspect its content. Use the internet to look up the needed functions."
      ]
    },
    {
      "cell_type": "code",
      "execution_count": 8,
      "metadata": {
        "colab": {
          "base_uri": "https://localhost:8080/"
        },
        "id": "dGWzuDdwEvuw",
        "outputId": "6f218dd6-2757-42b0-ab5d-317ee5f585f5",
        "tags": [
          "task_7"
        ]
      },
      "outputs": [
        {
          "name": "stdout",
          "output_type": "stream",
          "text": [
            "File warehouse.json has been created.\n"
          ]
        }
      ],
      "source": [
        "import json\n",
        "\n",
        "warehouse = [\n",
        "    {\"product\": \"Apple\", \"price\": 0.5, \"quantity\": 10},\n",
        "    {\"product\": \"Banana\", \"price\": 0.75, \"quantity\": 20},\n",
        "    {\"product\": \"Orange\", \"price\": 0.35, \"quantity\": 15}\n",
        "]\n",
        "\n",
        "\n",
        "with open(\"warehouse.json\", \"w\", encoding=\"utf-8\") as file:\n",
        "    json.dump(warehouse, file, ensure_ascii=False, indent=4)\n",
        "\n",
        "print(\"File warehouse.json has been created.\")\n"
      ]
    }
  ],
  "metadata": {
    "colab": {
      "provenance": []
    },
    "kernelspec": {
      "display_name": "venv",
      "language": "python",
      "name": "python3"
    },
    "language_info": {
      "codemirror_mode": {
        "name": "ipython",
        "version": 3
      },
      "file_extension": ".py",
      "mimetype": "text/x-python",
      "name": "python",
      "nbconvert_exporter": "python",
      "pygments_lexer": "ipython3",
      "version": "3.11.5"
    },
    "orig_nbformat": 4
  },
  "nbformat": 4,
  "nbformat_minor": 0
}
